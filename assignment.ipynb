{
 "cells": [
  {
   "cell_type": "markdown",
   "id": "81e12b0d-798b-479c-9a33-42f321eb797d",
   "metadata": {},
   "source": [
    "Answer = 1\n"
   ]
  },
  {
   "cell_type": "code",
   "execution_count": 5,
   "id": "3f39f201-edb4-44e1-be4e-304a01c08237",
   "metadata": {},
   "outputs": [],
   "source": [
    "class vehicle:\n",
    "    def __init__ (self ,name_of_vehicle,max_speed ,average_of_vehicle ):\n",
    "        self.name_of_vehicle = name_of_vehicle\n",
    "        self.max_speed = max_speed\n",
    "        self.average_of_vehicle = average_of_vehicle\n"
   ]
  },
  {
   "cell_type": "markdown",
   "id": "eb6760e2-560e-4f7d-b4a0-7ab4d297d17c",
   "metadata": {},
   "source": [
    "Answer = 2"
   ]
  },
  {
   "cell_type": "code",
   "execution_count": 8,
   "id": "0f0c4424-fa21-4803-a17e-6d795ed59c86",
   "metadata": {},
   "outputs": [],
   "source": [
    "class child_vehicle(vehicle):\n",
    "    def seating_capacity(self,seating__capacity):\n",
    "        return seating__capacity\n"
   ]
  },
  {
   "cell_type": "code",
   "execution_count": 13,
   "id": "75e9d93e-01a9-49d9-b0fa-846d47f3a2f3",
   "metadata": {},
   "outputs": [
    {
     "data": {
      "text/plain": [
       "8"
      ]
     },
     "execution_count": 13,
     "metadata": {},
     "output_type": "execute_result"
    }
   ],
   "source": [
    "c = child_vehicle(\"swift\",200,45)\n",
    "c.name_of_vehicle\n",
    "c.seating_capacity(8)\n",
    "\n"
   ]
  },
  {
   "cell_type": "markdown",
   "id": "d5aacf00-0d14-48b6-9db6-3ec68c1ab7dd",
   "metadata": {},
   "source": []
  },
  {
   "cell_type": "markdown",
   "id": "84b8d40b-f2e7-4c73-b1d1-b05e65108c4d",
   "metadata": {},
   "source": [
    "Answer = 3"
   ]
  },
  {
   "cell_type": "code",
   "execution_count": null,
   "id": "eff057de-90f9-43a5-b0b8-8daf51a78cff",
   "metadata": {},
   "outputs": [],
   "source": [
    "Inheritance is the mechanism to achieve the re-usability of code as one\n",
    "class(child class) can derive the properties of another class(parent class).\n",
    "It also provides transitivity ie. if class C inherits from P then all the \n",
    "sub-classes of C would also inherit from P."
   ]
  },
  {
   "cell_type": "code",
   "execution_count": 8,
   "id": "b1c68628-63ac-42c4-8fff-a31f9dcfceb6",
   "metadata": {},
   "outputs": [],
   "source": [
    "class a:\n",
    "    def mufun(self):\n",
    "        print(\"class a\")\n",
    "class b:\n",
    "    def mufun1(self):\n",
    "        print(\"class b\") \n",
    "class c(a,b):\n",
    "    def mufun2(self):\n",
    "        print(\"class c\")        "
   ]
  },
  {
   "cell_type": "code",
   "execution_count": 9,
   "id": "879e14d5-bdbe-4607-9266-0445054a306c",
   "metadata": {},
   "outputs": [],
   "source": [
    "cc = c()"
   ]
  },
  {
   "cell_type": "code",
   "execution_count": 10,
   "id": "216547bc-664c-4c80-ac43-a6851095a9cc",
   "metadata": {},
   "outputs": [
    {
     "name": "stdout",
     "output_type": "stream",
     "text": [
      "class a\n",
      "class b\n",
      "class c\n"
     ]
    }
   ],
   "source": [
    "cc.mufun()\n",
    "cc.mufun1()\n",
    "cc.mufun2()"
   ]
  },
  {
   "cell_type": "code",
   "execution_count": null,
   "id": "ecb7061b-a03c-4519-b1c7-695a8260edd2",
   "metadata": {},
   "outputs": [],
   "source": []
  },
  {
   "cell_type": "markdown",
   "id": "9e2daba6-53f6-4c44-88dd-c0794e9e703d",
   "metadata": {},
   "source": [
    "Answer = 4"
   ]
  },
  {
   "cell_type": "code",
   "execution_count": null,
   "id": "cf192a79-b2e9-4464-845e-a43622846c12",
   "metadata": {},
   "outputs": [],
   "source": [
    "In Python, getters and setters are not the same as those in other\n",
    "object-oriented programming languages. Basically, the main purpose of using \n",
    "getters and setters in object-oriented programs is to ensure data encapsulation. Private variables in python are not actually hidden fields like in other object oriented languages. Getters and Setters in python are often used when:\n",
    "\n",
    "We use getters & setters to add validation logic around getting and setting a\n",
    "value.\n",
    "To avoid direct access of a class field i.e. private variables cannot be\n",
    "accessed directly or modified by external user."
   ]
  },
  {
   "cell_type": "code",
   "execution_count": 20,
   "id": "c15412de-150f-45e7-9548-b1391861ac0f",
   "metadata": {},
   "outputs": [],
   "source": [
    "class employe:\n",
    "    def __init__(self, experience):\n",
    "        self._experience = experience\n",
    "        \n",
    "    def set_exp(self, x):\n",
    "        self._experience = x\n",
    "        \n",
    "    def get_exp(self):\n",
    "        return self._experience"
   ]
  },
  {
   "cell_type": "code",
   "execution_count": 23,
   "id": "4ac74d58-204b-4a6c-bf47-9bc4e92da9fa",
   "metadata": {},
   "outputs": [],
   "source": [
    "e1 = employe(34)\n",
    "e2 = employe(48)"
   ]
  },
  {
   "cell_type": "code",
   "execution_count": 25,
   "id": "2e2451c3-5e2d-4973-8718-3e5761e5f04a",
   "metadata": {},
   "outputs": [],
   "source": [
    "e1.set_exp(44)\n",
    "e2.set_exp(88)\n"
   ]
  },
  {
   "cell_type": "code",
   "execution_count": 27,
   "id": "5e733fe5-299b-42b3-9ba3-af05d338b751",
   "metadata": {},
   "outputs": [
    {
     "data": {
      "text/plain": [
       "88"
      ]
     },
     "execution_count": 27,
     "metadata": {},
     "output_type": "execute_result"
    }
   ],
   "source": [
    "e1.get_exp()\n",
    "e2.get_exp()"
   ]
  },
  {
   "cell_type": "code",
   "execution_count": null,
   "id": "f4c9cfb5-6d6b-4171-9b73-92aaa6a73eeb",
   "metadata": {},
   "outputs": [],
   "source": []
  },
  {
   "cell_type": "markdown",
   "id": "b674c33c-36f2-4462-a339-a8473fa04473",
   "metadata": {},
   "source": [
    "Answer = 5"
   ]
  },
  {
   "cell_type": "code",
   "execution_count": null,
   "id": "5e795587-b9ba-4198-b9ab-044e3f8bc08c",
   "metadata": {},
   "outputs": [],
   "source": [
    "Method overriding is an ability of any object-oriented programming language\n",
    "that allows a subclass or child class to provide a specific implementation of\n",
    "a method that is already provided by one of its super-classes or parent\n",
    "classes. When a method in a subclass has the same name, same parameters or \n",
    "signature and same return type(or sub-type) as a method in its super-class,\n",
    "then the method in the subclass is said to override the method in the\n",
    "super-class."
   ]
  },
  {
   "cell_type": "code",
   "execution_count": 1,
   "id": "55725e31-0728-4d75-b611-4d96ca74ae82",
   "metadata": {},
   "outputs": [],
   "source": [
    "class parent:\n",
    "    def show(self):\n",
    "        print(\"parent class\")\n",
    "class child:\n",
    "    def show(self):\n",
    "        print(\"class child \")\n",
    "        "
   ]
  },
  {
   "cell_type": "code",
   "execution_count": 2,
   "id": "5727e3fe-5fc6-4903-b991-d3f6aaebacc4",
   "metadata": {},
   "outputs": [],
   "source": [
    "p = parent()\n",
    "c = child()"
   ]
  },
  {
   "cell_type": "code",
   "execution_count": 3,
   "id": "f8b53ba0-0a87-4e97-9fa3-abcd1aa35aae",
   "metadata": {},
   "outputs": [
    {
     "name": "stdout",
     "output_type": "stream",
     "text": [
      "parent class\n"
     ]
    }
   ],
   "source": [
    "p.show()"
   ]
  },
  {
   "cell_type": "code",
   "execution_count": null,
   "id": "5d18b827-3b1e-4454-b583-f6c9eb9d38c3",
   "metadata": {},
   "outputs": [],
   "source": []
  }
 ],
 "metadata": {
  "kernelspec": {
   "display_name": "Python 3 (ipykernel)",
   "language": "python",
   "name": "python3"
  },
  "language_info": {
   "codemirror_mode": {
    "name": "ipython",
    "version": 3
   },
   "file_extension": ".py",
   "mimetype": "text/x-python",
   "name": "python",
   "nbconvert_exporter": "python",
   "pygments_lexer": "ipython3",
   "version": "3.10.8"
  }
 },
 "nbformat": 4,
 "nbformat_minor": 5
}
